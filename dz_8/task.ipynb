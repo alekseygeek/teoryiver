{
 "cells": [
  {
   "attachments": {},
   "cell_type": "markdown",
   "metadata": {},
   "source": [
    "1. Даны значения величины заработной платы заемщиков банка (zp) и значения их поведенческого кредитного скоринга (ks):\n",
    "zp = [35, 45, 190, 200, 40, 70, 54, 150, 120, 110],\n",
    "ks = [401, 574, 874, 919, 459, 739, 653, 902, 746, 832].\n",
    "Найдите ковариацию этих двух величин с помощью элементарных действий, а затем с помощью функции cov из numpy\n",
    "Полученные значения должны быть равны.\n",
    "Найдите коэффициент корреляции Пирсона с помощью ковариации и среднеквадратичных отклонений двух признаков, а затем с использованием функций из библиотек numpy и pandas."
   ]
  },
  {
   "cell_type": "code",
   "execution_count": 90,
   "metadata": {},
   "outputs": [],
   "source": [
    "import pandas as pd\n",
    "import numpy as np\n",
    "from scipy import stats\n",
    "import matplotlib.pyplot as plt\n"
   ]
  },
  {
   "cell_type": "code",
   "execution_count": 91,
   "metadata": {},
   "outputs": [
    {
     "data": {
      "image/png": "[encoded data removed]",
      "text/plain": [
       "<Figure size 640x480 with 1 Axes>"
      ]
     },
     "metadata": {},
     "output_type": "display_data"
    }
   ],
   "source": [
    "zp = np.array([35, 45, 190, 200, 40, 70, 54, 150, 120, 110])\n",
    "ks = np.array([401, 574, 874, 919, 459, 739, 653, 902, 746, 832])\n",
    "plt.scatter(zp, ks)\n",
    "plt.xlabel('величины заработной платы заемщиков банка \"ZP\"')\n",
    "plt.ylabel('Поведенческий кредитный скоринг \"KS\"', rotation=90)\n",
    "plt.show()\n"
   ]
  },
  {
   "attachments": {},
   "cell_type": "markdown",
   "metadata": {},
   "source": [
    "Из графика видно, что зависимость линейная. Ожидаем, что между этими данными существует положительная корреляция.  \n",
    "\n",
    "Вычислим ковариацию двух величин  \n",
    "$Сov(xy) = M(XY) - M(X)*M(Y)$\n"
   ]
  },
  {
   "cell_type": "code",
   "execution_count": 92,
   "metadata": {},
   "outputs": [
    {
     "data": {
      "text/plain": [
       "9157.839999999997"
      ]
     },
     "execution_count": 92,
     "metadata": {},
     "output_type": "execute_result"
    }
   ],
   "source": [
    "cov_zp_ks = np.mean(zp*ks) - np.mean(zp)*np.mean(ks)\n",
    "cov_zp_ks\n"
   ]
  },
  {
   "attachments": {},
   "cell_type": "markdown",
   "metadata": {},
   "source": [
    "Вычислим ковариацию двух величин через функцию $cov$"
   ]
  },
  {
   "cell_type": "code",
   "execution_count": 93,
   "metadata": {},
   "outputs": [
    {
     "data": {
      "text/plain": [
       "9157.840000000002"
      ]
     },
     "execution_count": 93,
     "metadata": {},
     "output_type": "execute_result"
    }
   ],
   "source": [
    "cov_zp_ks = np.cov(zp, ks, ddof=0)[0, 1]\n",
    "cov_zp_ks\n"
   ]
  },
  {
   "attachments": {},
   "cell_type": "markdown",
   "metadata": {},
   "source": [
    "Вычислим коэффициент корреляции Пирсона с помощью ковариации и среднеквадратичных отклонений двух признаков:\n",
    "\n",
    "$corr(zp, ks) = \\frac{Cov(zp, ks)}{\\sqrt{Var(zp)}\\sqrt{Var(ks)}}$  "
   ]
  },
  {
   "attachments": {},
   "cell_type": "markdown",
   "metadata": {},
   "source": [
    "$r = \\frac{\\operatorname{cov}(zp, ks)}{\\sigma_{zp} \\sigma_{ks}}$  \n"
   ]
  },
  {
   "cell_type": "code",
   "execution_count": 94,
   "metadata": {},
   "outputs": [
    {
     "data": {
      "text/plain": [
       "0.8874900920739163"
      ]
     },
     "execution_count": 94,
     "metadata": {},
     "output_type": "execute_result"
    }
   ],
   "source": [
    "corr_coef = cov_zp_ks / (np.std(zp, ddof=0) * np.std(ks, ddof=0))\n",
    "corr_coef\n"
   ]
  },
  {
   "attachments": {},
   "cell_type": "markdown",
   "metadata": {},
   "source": [
    "***Библиотека Numpy***"
   ]
  },
  {
   "cell_type": "code",
   "execution_count": 95,
   "metadata": {},
   "outputs": [
    {
     "data": {
      "text/plain": [
       "0.8874900920739162"
      ]
     },
     "execution_count": 95,
     "metadata": {},
     "output_type": "execute_result"
    }
   ],
   "source": [
    "corr_numpy = np.corrcoef(zp, ks)[0][1]\n",
    "corr_numpy\n"
   ]
  },
  {
   "attachments": {},
   "cell_type": "markdown",
   "metadata": {},
   "source": [
    "***Библиотека Pandas***"
   ]
  },
  {
   "cell_type": "code",
   "execution_count": 96,
   "metadata": {},
   "outputs": [
    {
     "data": {
      "text/plain": [
       "0.8874900920739162"
      ]
     },
     "execution_count": 96,
     "metadata": {},
     "output_type": "execute_result"
    }
   ],
   "source": [
    "corr_pandas = pd.Series(zp).corr(pd.Series(ks), method='pearson')\n",
    "corr_pandas\n"
   ]
  },
  {
   "attachments": {},
   "cell_type": "markdown",
   "metadata": {},
   "source": [
    "2. Измерены значения IQ выборки студентов,\n",
    "обучающихся в местных технических вузах:\n",
    "131, 125, 115, 122, 131, 115, 107, 99, 125, 111.\n",
    "Известно, что в генеральной совокупности IQ распределен нормально.\n",
    "Найдите доверительный интервал для математического ожидания с надежностью 0.95."
   ]
  },
  {
   "cell_type": "code",
   "execution_count": 97,
   "metadata": {},
   "outputs": [],
   "source": [
    "iq = np.array([131, 125, 115, 122, 131, 115, 107, 99, 125, 111])\n",
    "alpha = 0.05\n"
   ]
  },
  {
   "attachments": {},
   "cell_type": "markdown",
   "metadata": {},
   "source": [
    "Используем $t$-критерий и формулу для среднего арифмитического:    \n",
    "$\\overline{X}\\underline{+}t\\frac{\\alpha}{2}*\\frac{\\sigma}{\\sqrt{n}}$ "
   ]
  },
  {
   "cell_type": "code",
   "execution_count": 98,
   "metadata": {},
   "outputs": [
    {
     "name": "stdout",
     "output_type": "stream",
     "text": [
      "\u001b[31m Размер выборки: n = 10\n",
      " Среднее квадратическое отклонение по выборке(несмещенное): 10.55\n",
      " Среднее выборочное: 118.10\n"
     ]
    }
   ],
   "source": [
    "n = iq.size\n",
    "std = iq.std(ddof=1)\n",
    "mean = iq.mean()\n",
    "print(\n",
    "    f'\\033[31m Размер выборки: n = {n}\\n'f' Среднее квадратическое отклонение по выборке(несмещенное): {std:.2f}\\n'f' Среднее выборочное: {mean:.2f}')\n"
   ]
  },
  {
   "attachments": {},
   "cell_type": "markdown",
   "metadata": {},
   "source": [
    "Cчитаем значения $t$ и отклонение"
   ]
  },
  {
   "cell_type": "code",
   "execution_count": 99,
   "metadata": {},
   "outputs": [
    {
     "data": {
      "text/plain": [
       "(7.543916348412745, 2.2621571627409915)"
      ]
     },
     "execution_count": 99,
     "metadata": {},
     "output_type": "execute_result"
    }
   ],
   "source": [
    "t = stats.t.ppf(1 - alpha / 2, n - 1)\n",
    "d = t * std / (n) ** 0.5\n",
    "d, t\n"
   ]
  },
  {
   "attachments": {},
   "cell_type": "markdown",
   "metadata": {},
   "source": [
    "Считаем доверительный интервал"
   ]
  },
  {
   "cell_type": "code",
   "execution_count": 100,
   "metadata": {},
   "outputs": [
    {
     "name": "stdout",
     "output_type": "stream",
     "text": [
      " Доверительный интервал для математического ожидания с надежностью 0.95 составляет: 110.56; 125.64\n"
     ]
    }
   ],
   "source": [
    "min = mean - d\n",
    "max = mean + d\n",
    "print(\n",
    "    f' Доверительный интервал для математического ожидания с надежностью 0.95 составляет:{min: .2f};{max: .2f}')\n"
   ]
  },
  {
   "attachments": {},
   "cell_type": "markdown",
   "metadata": {},
   "source": [
    "3. Известно, что рост футболистов в сборной распределен нормально с дисперсией генеральной совокупности, равной 25 кв.см. Объем выборки равен 27, среднее выборочное составляет 174.2. Найдите доверительный интервал для математического ожидания с надежностью 0.95."
   ]
  },
  {
   "attachments": {},
   "cell_type": "markdown",
   "metadata": {},
   "source": [
    "Используем $z$-критерий и формулу для среднего арифмитического:    \n",
    "$\\overline{X}\\underline{+}z\\frac{\\alpha}{2}*\\frac{\\sigma}{\\sqrt{n}}$ "
   ]
  },
  {
   "cell_type": "code",
   "execution_count": 101,
   "metadata": {},
   "outputs": [
    {
     "name": "stdout",
     "output_type": "stream",
     "text": [
      "Доверительный интервал для математического ожидания с надежностью 0.95 составляет: 147.30; 201.10\n"
     ]
    }
   ],
   "source": [
    "var = 25\n",
    "n = 27\n",
    "mean = 174.2\n",
    "std = (var)**0.5\n",
    "alpha = 0.05\n",
    "z = stats.norm.ppf(1-alpha/2, n-1)\n",
    "d = z*std/(n)**0.5\n",
    "min = mean - d\n",
    "max = mean + d\n",
    "print(\n",
    "    f\"Доверительный интервал для математического ожидания с надежностью 0.95 составляет:{min: .2f};{max: .2f}\")\n"
   ]
  }
 ],
 "metadata": {
  "kernelspec": {
   "display_name": "Python 3",
   "language": "python",
   "name": "python3"
  },
  "language_info": {
   "codemirror_mode": {
    "name": "ipython",
    "version": 3
   },
   "file_extension": ".py",
   "mimetype": "text/x-python",
   "name": "python",
   "nbconvert_exporter": "python",
   "pygments_lexer": "ipython3",
   "version": "3.11.0"
  },
  "orig_nbformat": 4
 },
 "nbformat": 4,
 "nbformat_minor": 2
}
