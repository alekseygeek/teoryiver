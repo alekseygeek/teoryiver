{
 "cells": [
  {
   "attachments": {},
   "cell_type": "markdown",
   "metadata": {},
   "source": [
    "1. Случайная непрерывная величина A имеет равномерное распределение на промежутке (200,800) . Найдите ее среднее значение и дисперсию.\n",
    "\n"
   ]
  },
  {
   "attachments": {},
   "cell_type": "markdown",
   "metadata": {},
   "source": []
  },
  {
   "cell_type": "code",
   "execution_count": 1,
   "metadata": {},
   "outputs": [
    {
     "name": "stdout",
     "output_type": "stream",
     "text": [
      "На промежутке (200;800]\n",
      "Среднее значение: М(А) =  500.00\n",
      "Дисперсия: D(A) =  30000.00\n"
     ]
    }
   ],
   "source": [
    "def mean_and_variance(a,b):\n",
    "    return f'На промежутке ({a};{b}]\\nСреднее значение: М(А) = {(a+b)/2: .2f}\\nДисперсия: D(A) = {((b-a)**2)/12: .2f}'\n",
    "print(mean_and_variance(200,800))"
   ]
  },
  {
   "cell_type": "code",
   "execution_count": null,
   "metadata": {},
   "outputs": [],
   "source": []
  }
 ],
 "metadata": {
  "kernelspec": {
   "display_name": "Python 3",
   "language": "python",
   "name": "python3"
  },
  "language_info": {
   "codemirror_mode": {
    "name": "ipython",
    "version": 3
   },
   "file_extension": ".py",
   "mimetype": "text/x-python",
   "name": "python",
   "nbconvert_exporter": "python",
   "pygments_lexer": "ipython3",
   "version": "3.11.0"
  },
  "orig_nbformat": 4,
  "vscode": {
   "interpreter": {
    "hash": "6641ca626583961b37be56eae36e98ad80dedd33588dc62353bf94135308980f"
   }
  }
 },
 "nbformat": 4,
 "nbformat_minor": 2
}
